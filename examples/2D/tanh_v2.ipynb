{
 "cells": [
  {
   "cell_type": "code",
   "execution_count": 14,
   "id": "34c96570",
   "metadata": {},
   "outputs": [
    {
     "name": "stdout",
     "output_type": "stream",
     "text": [
      "The autoreload extension is already loaded. To reload it, use:\n",
      "  %reload_ext autoreload\n"
     ]
    }
   ],
   "source": [
    "%load_ext autoreload\n",
    "%autoreload 2"
   ]
  },
  {
   "cell_type": "code",
   "execution_count": 15,
   "id": "7d61253a",
   "metadata": {},
   "outputs": [],
   "source": [
    "import sys\n",
    "import numpy as np\n",
    "import matplotlib.pyplot as plt\n",
    "import scipy.stats as stats\n",
    "\n",
    "sys.path.insert(1, '../../data/')\n",
    "from datasets import tanh_v2\n",
    "sys.path.insert(1, '../../methods/')\n",
    "from TriangularEstimators import ScaledCostOT\n",
    "\n",
    "import torch\n",
    "\n",
    "\n",
    "np.random.seed(10)"
   ]
  },
  {
   "cell_type": "markdown",
   "id": "2a590aa3",
   "metadata": {},
   "source": [
    "## Define dataset"
   ]
  },
  {
   "cell_type": "code",
   "execution_count": 4,
   "id": "ef0bc4c7",
   "metadata": {},
   "outputs": [
    {
     "data": {
      "text/plain": [
       "<matplotlib.collections.PathCollection at 0x289eb8f10>"
      ]
     },
     "execution_count": 4,
     "metadata": {},
     "output_type": "execute_result"
    },
    {
     "data": {
      "image/png": "[encoded data removed]",
      "text/plain": [
       "<Figure size 640x480 with 1 Axes>"
      ]
     },
     "metadata": {},
     "output_type": "display_data"
    }
   ],
   "source": [
    "# define number of samples\n",
    "N = 5000\n",
    "\n",
    "# define class\n",
    "pi = tanh_v2()\n",
    "\n",
    "# define source samples\n",
    "X = pi.sample_joint(N)\n",
    "X_source = np.hstack((X[:,0][:,None], np.random.randn(N,1)))\n",
    "\n",
    "# define target samples\n",
    "X_target = pi.sample_joint(N)\n",
    "\n",
    "plt.scatter(X_target[:,0],X_target[:,1])"
   ]
  },
  {
   "cell_type": "markdown",
   "id": "8d28c633",
   "metadata": {},
   "source": [
    "## Instantial conditional estimation parameters\n",
    "\n",
    "These parameters will be the same for all models"
   ]
  },
  {
   "cell_type": "code",
   "execution_count": 5,
   "id": "a669619c",
   "metadata": {},
   "outputs": [],
   "source": [
    "dim_x = dim_y = 1\n",
    "beta = 1e-2 # N**(-1/5)"
   ]
  },
  {
   "cell_type": "markdown",
   "id": "a4c47d5f",
   "metadata": {},
   "source": [
    "## Fit the various models to the data"
   ]
  },
  {
   "cell_type": "code",
   "execution_count": 16,
   "id": "51351972",
   "metadata": {},
   "outputs": [
    {
     "name": "stdout",
     "output_type": "stream",
     "text": [
      "Done OTT\n"
     ]
    }
   ],
   "source": [
    "### ICNN model\n",
    "# n_iters_icnn = 1000 ### number of training iterations\n",
    "# ot_icnn = ScaledCostOT(dx1=dim_x,dx2=dim_y,beta=beta,estimator='ICNN', n_iters=n_iters_icnn) ## move this as a **args\n",
    "# ot_icnn.fit(source=X_source, target=X_target.detach().numpy())\n",
    "# print('Done ICNN')\n",
    "# ### Nearest-Neighbor estimator\n",
    "# ot_nn = ScaledCostOT(dx1=dim_x,dx2=dim_y,beta=beta,estimator='NN')\n",
    "# ot_nn.fit(source=X_source, target=X_target.detach().numpy())\n",
    "# print('Done NN')\n",
    "# ### Entropic map estimator\n",
    "eps_ott = beta/10\n",
    "n_inters_ott = 500\n",
    "ot_ott = ScaledCostOT(dx1=dim_x,dx2=dim_y,beta=beta,estimator='OTT',eps=eps_ott,debias=False)\n",
    "ot_ott.fit(source=X_source, target=X_target.detach().numpy(), max_iter=n_inters_ott)\n",
    "print('Done OTT')"
   ]
  },
  {
   "cell_type": "code",
   "execution_count": null,
   "id": "1388b720",
   "metadata": {},
   "outputs": [
    {
     "name": "stderr",
     "output_type": "stream",
     "text": [
      "/Users/apooladian/KRMapEstimation_private/examples/2D/../../data/datasets.py:209: RuntimeWarning: invalid value encountered in arctanh\n",
      "  n = np.arctanh(y) - x\n"
     ]
    }
   ],
   "source": [
    "Ntest = int(5000)\n",
    "y_locs = [-1.1,0,1.1]\n",
    "nbins = 50\n",
    "\n",
    "# Share a Y axis with each row of subplots\n",
    "fig, ax = plt.subplots(1, 3, figsize = (10,2.5))\n",
    "\n",
    "for i,y in enumerate(y_locs):\n",
    "\n",
    "    data_cond_y = np.hstack((np.ones((Ntest,1))*y, np.random.randn(Ntest,1)))\n",
    "    # evaluate conditional density\n",
    "    xx = np.linspace(-1.5,1.5,100)#[:,None]\n",
    "    conditional_pdf = pi.conditional_pdf(y, xx)\n",
    "    plt.subplot(1,3,i+1)\n",
    "    plt.plot(xx, conditional_pdf, '-r')\n",
    "    \n",
    "#     YX_transp_icnn = ot_icnn.evaluate(data_cond_y)\n",
    "#     ax.flatten()[i].hist(YX_transp_icnn[:,1], bins=nbins, density=True, label='MLP',alpha=.75)\n",
    "    \n",
    "#     YX_transp_nn = ot_nn.evaluate(data_cond_y)\n",
    "#     ax.flatten()[i].hist(YX_transp_nn[:,1], bins=nbins, density=True, label='NN',alpha=.55)\n",
    "    \n",
    "#     YX_transp_ott = ot_ott.evaluate(data_cond_y)\n",
    "#     ax.flatten()[i].hist(YX_transp_ott[:,1], bins=nbins, density=True, label='EOT',alpha=.35)\n",
    "    \n",
    "    YX_transp_bridge = ot_ott.evaluate_bridge(data_cond_y, tau=0.99, Nsteps=100)\n",
    "    ax.flatten()[i].hist(YX_transp_bridge[:,1], bins=nbins, density=True, label='SB',alpha=.55)\n",
    "\n",
    "    ax.flatten()[i].legend(loc='upper left')\n",
    "    ax.flatten()[i].set_title(r'$y^* = {y}$')\n",
    "    ax.flatten()[i].set_ylim(0, 6.)\n",
    "    ax.flatten()[i].tick_params(left = False, right = False , labelleft = False) #labelbottom = False, bottom = False) \n"
   ]
  },
  {
   "cell_type": "code",
   "execution_count": null,
   "id": "0dc7c468",
   "metadata": {},
   "outputs": [],
   "source": []
  }
 ],
 "metadata": {
  "kernelspec": {
   "display_name": "Python 3 (ipykernel)",
   "language": "python",
   "name": "python3"
  },
  "language_info": {
   "codemirror_mode": {
    "name": "ipython",
    "version": 3
   },
   "file_extension": ".py",
   "mimetype": "text/x-python",
   "name": "python",
   "nbconvert_exporter": "python",
   "pygments_lexer": "ipython3",
   "version": "3.11.6"
  }
 },
 "nbformat": 4,
 "nbformat_minor": 5
}
