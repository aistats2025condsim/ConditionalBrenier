{
 "cells": [
  {
   "cell_type": "code",
   "execution_count": 1,
   "id": "9cc0489c",
   "metadata": {},
   "outputs": [],
   "source": [
    "%load_ext autoreload\n",
    "%autoreload 2"
   ]
  },
  {
   "cell_type": "code",
   "execution_count": 2,
   "id": "94c68e26",
   "metadata": {},
   "outputs": [],
   "source": [
    "import sys\n",
    "import numpy as np\n",
    "import jax\n",
    "import jax.numpy as jnp\n",
    "import matplotlib.pyplot as plt\n",
    "import scipy.stats as stats\n",
    "from math import sqrt\n",
    "\n",
    "sys.path.insert(1, '../../data/')\n",
    "from datasets import tanh_v1, tanh_v2, tanh_v3\n",
    "sys.path.insert(1, '../../methods/')\n",
    "from TriangularEstimators import ScaledCostOT\n",
    "from metrics import mmd2\n",
    "\n",
    "np.random.seed(42069)"
   ]
  },
  {
   "cell_type": "markdown",
   "id": "54801a10",
   "metadata": {},
   "source": [
    "## Evaluate generate samples with random trials"
   ]
  },
  {
   "cell_type": "code",
   "execution_count": 3,
   "id": "89135aa9",
   "metadata": {},
   "outputs": [
    {
     "name": "stdout",
     "output_type": "stream",
     "text": [
      "['ICNN', 'OTT', 'SB', 'NN']\n"
     ]
    },
    {
     "name": "stderr",
     "output_type": "stream",
     "text": [
      "/Users/apooladian/anaconda3/lib/python3.11/site-packages/scipy/stats/_kde.py:588: RuntimeWarning: divide by zero encountered in log\n",
      "  self.log_det = 2*np.log(np.diag(self.cho_cov\n"
     ]
    },
    {
     "data": {
      "application/vnd.jupyter.widget-view+json": {
       "model_id": "cd57a2daa70b4b41a6e46fa67f463811",
       "version_major": 2,
       "version_minor": 0
      },
      "text/plain": [
       "  0%|          | 0/500 [00:00<?, ?it/s]"
      ]
     },
     "metadata": {},
     "output_type": "display_data"
    },
    {
     "name": "stdout",
     "output_type": "stream",
     "text": [
      "0\n",
      "50\n",
      "100\n",
      "150\n",
      "200\n",
      "250\n",
      "300\n",
      "350\n",
      "400\n",
      "450\n",
      "Done ICNN\n",
      "Done NN\n",
      "Done OTT\n"
     ]
    },
    {
     "name": "stderr",
     "output_type": "stream",
     "text": [
      "/Users/apooladian/anaconda3/lib/python3.11/site-packages/scipy/stats/_kde.py:588: RuntimeWarning: divide by zero encountered in log\n",
      "  self.log_det = 2*np.log(np.diag(self.cho_cov\n"
     ]
    },
    {
     "data": {
      "application/vnd.jupyter.widget-view+json": {
       "model_id": "61bc4b7ddc0548d8b5fe8088fc65e9fc",
       "version_major": 2,
       "version_minor": 0
      },
      "text/plain": [
       "  0%|          | 0/500 [00:00<?, ?it/s]"
      ]
     },
     "metadata": {},
     "output_type": "display_data"
    },
    {
     "name": "stdout",
     "output_type": "stream",
     "text": [
      "0\n",
      "50\n",
      "100\n",
      "150\n",
      "200\n",
      "250\n",
      "300\n",
      "350\n",
      "400\n",
      "450\n",
      "Done ICNN\n",
      "Done NN\n",
      "Done OTT\n"
     ]
    },
    {
     "name": "stderr",
     "output_type": "stream",
     "text": [
      "/Users/apooladian/anaconda3/lib/python3.11/site-packages/scipy/stats/_kde.py:588: RuntimeWarning: divide by zero encountered in log\n",
      "  self.log_det = 2*np.log(np.diag(self.cho_cov\n"
     ]
    },
    {
     "data": {
      "application/vnd.jupyter.widget-view+json": {
       "model_id": "f060456e7b4d4b17a1d34fb30eb79d6b",
       "version_major": 2,
       "version_minor": 0
      },
      "text/plain": [
       "  0%|          | 0/500 [00:00<?, ?it/s]"
      ]
     },
     "metadata": {},
     "output_type": "display_data"
    },
    {
     "name": "stdout",
     "output_type": "stream",
     "text": [
      "0\n",
      "50\n",
      "100\n",
      "150\n",
      "200\n",
      "250\n",
      "300\n",
      "350\n",
      "400\n",
      "450\n",
      "Done ICNN\n",
      "Done NN\n",
      "Done OTT\n"
     ]
    },
    {
     "name": "stderr",
     "output_type": "stream",
     "text": [
      "/Users/apooladian/anaconda3/lib/python3.11/site-packages/scipy/stats/_kde.py:588: RuntimeWarning: divide by zero encountered in log\n",
      "  self.log_det = 2*np.log(np.diag(self.cho_cov\n"
     ]
    },
    {
     "data": {
      "application/vnd.jupyter.widget-view+json": {
       "model_id": "f7ec32a022004b0f801c1b062c9f2087",
       "version_major": 2,
       "version_minor": 0
      },
      "text/plain": [
       "  0%|          | 0/500 [00:00<?, ?it/s]"
      ]
     },
     "metadata": {},
     "output_type": "display_data"
    },
    {
     "name": "stdout",
     "output_type": "stream",
     "text": [
      "0\n",
      "50\n",
      "100\n",
      "150\n",
      "200\n",
      "250\n",
      "300\n",
      "350\n",
      "400\n",
      "450\n",
      "Done ICNN\n",
      "Done NN\n",
      "Done OTT\n"
     ]
    }
   ],
   "source": [
    "Ntrain = int(3000) ### fixed \n",
    "Ntest = int(2000) ### fixed\n",
    "\n",
    "n_methods = ['ICNN','OTT','NN']\n",
    "want_nn = True\n",
    "if Ntrain <= 10000 and want_nn:\n",
    "    n_methods.append('NN')\n",
    "print(n_methods)\n",
    "n_trials = 5 \n",
    "\n",
    "### distribution and other parameters\n",
    "dataset_options = ['tanh_v1','tanh_v2','tanh_v3']\n",
    "if target == 'tanh_v1':\n",
    "    pi = tanh_v1()\n",
    "elif target == 'tanh_v2':\n",
    "    pi = tanh_v2()\n",
    "elif target == 'tanh_v3':\n",
    "    pi = tanh_v3()\n",
    "\n",
    "dim_x = dim_y = 1\n",
    "betaz = [0.1, 0.08, 0.06, 0.04, 0.02, 0.01]\n",
    "y_loc_mc = 50\n",
    "y_locs = []\n",
    "\n",
    "W1_dict = {method: np.zeros((n_trials, y_loc_mc, len(betaz))) for method in n_methods}\n",
    "MMD_dict = {method: np.zeros((n_trials, y_loc_mc, len(betaz))) for method in n_methods}\n",
    "\n",
    "## for NN\n",
    "\n",
    "## parameters for methods\n",
    "n_inters_ott = 500\n",
    "\n",
    "## for FM method\n",
    "for k,beta in enumerate(betaz):\n",
    "    eps_ott = beta/5\n",
    "    for i in range(n_trials):\n",
    "        X = pi.sample_joint(Ntrain)\n",
    "        X_source = np.hstack((X[:,0][:,None], np.random.randn(Ntrain,1)))\n",
    "        X_target = pi.sample_joint(Ntrain)\n",
    "\n",
    "        ## ICNN model\n",
    "        if 'ICNN' in n_methods:\n",
    "            ot_icnn = ScaledCostOT(dx1=dim_x,dx2=dim_y,beta=beta,estimator='ICNN', n_iters=n_iters_icnn) ## move this as a **args\n",
    "            ot_icnn.fit(source=X_source, target=X_target)\n",
    "            print('Done ICNN')\n",
    "\n",
    "        ## Nearest-Neighbor estimator\n",
    "        if 'NN' in n_methods: \n",
    "            ot_nn = ScaledCostOT(dx1=dim_x,dx2=dim_y,beta=beta,estimator='NN')\n",
    "            ot_nn.fit(source=X_source, target=X_target)\n",
    "            print('Done NN')\n",
    "\n",
    "        ## Entropic map estimator\n",
    "        if 'OTT' in n_methods:\n",
    "            ot_ott = ScaledCostOT(dx1=dim_x,dx2=dim_y,beta=beta,estimator='OTT',eps=eps_ott)\n",
    "            ot_ott.fit(source=X_source, target=X_target, max_iter=n_inters_ott)\n",
    "            print('Done OTT')\n",
    "\n",
    "        for j,y in enumerate(y_locs):\n",
    "            data_cond_y = jnp.hstack((jnp.ones((Ntest,1))*y, jnp.array(np.random.randn(Ntest,1))))\n",
    "            gen_samples_pi = pi.sample_conditional(y,Ntest)\n",
    "\n",
    "            if 'ICNN' in n_methods:\n",
    "                YX_transp_icnn = np.array(ot_icnn.evaluate(data_cond_y.copy()))\n",
    "                W1_dict['ICNN'][i,j,k] = stats.wasserstein_distance(YX_transp_icnn[:,1],gen_samples_pi) ### change this to regular OT distance\n",
    "                MMD_dict['ICNN'][i,j,k],_ = mmd2(YX_transp_icnn[:,1].reshape(Ntest,dim_x),gen_samples_pi.reshape(Ntest,dim_x))\n",
    "\n",
    "            if 'NN' in n_methods:\n",
    "                YX_transp_nn = np.array(ot_nn.evaluate(data_cond_y.copy()))\n",
    "                W1_dict['NN'][i,j,k] = stats.wasserstein_distance(YX_transp_nn[:,1],gen_samples_pi)\n",
    "                MMD_dict['NN'][i,j,k],_ = mmd2(YX_transp_nn[:,1].reshape(Ntest,dim_x),gen_samples_pi.reshape(Ntest,dim_x))\n",
    "\n",
    "            if 'OTT' in n_methods: \n",
    "                YX_transp_ott = np.array(ot_ott.evaluate(data_cond_y.copy()))\n",
    "                W1_dict['OTT'][i,j,k] = stats.wasserstein_distance(YX_transp_ott[:,1],gen_samples_pi)\n",
    "                MMD_dict['OTT'][i,j,k],_ = mmd2(YX_transp_ott[:,1].reshape(Ntest,dim_x),gen_samples_pi.reshape(Ntest,dim_x))\n",
    "\n",
    "all_info={'dataset':target,'n_iters_icnn':n_iters_icnn,\n",
    "          'n_iters_ott':n_inters_ott,\n",
    "          'w1_dict': W1_dict,'mmd_dict':MMD_dict,\n",
    "          'ntrain':Ntrain,'ntest':Ntest}\n",
    "\n",
    "\n"
   ]
  },
  {
   "cell_type": "markdown",
   "id": "966164f4",
   "metadata": {},
   "source": [
    "## Compute averages of the methods"
   ]
  },
  {
   "cell_type": "code",
   "execution_count": 4,
   "id": "0ac69dff",
   "metadata": {},
   "outputs": [
    {
     "name": "stdout",
     "output_type": "stream",
     "text": [
      "ICNN at -1.2: 0.4382549883988135 with std 0.07587373109793258\n",
      "ICNN at 0: 0.15555593575183013 with std 0.040302177158286996\n",
      "ICNN at 1.2: 0.4435870023600625 with std 0.14324935475986975\n",
      "OTT at -1.2: 0.02355024022158647 with std 0.004054221137290739\n",
      "OTT at 0: 0.03393047508282316 with std 0.0128942503238217\n",
      "OTT at 1.2: 0.027500369528400192 with std 0.004023416661860557\n",
      "SB at -1.2: 0.010819006840209179 with std 0.004410672771946524\n",
      "SB at 0: 0.044644962909513114 with std 0.015677731379956338\n",
      "SB at 1.2: 0.013020467500129381 with std 0.008928124783686027\n",
      "NN at -1.2: 0.014045936579101944 with std 0.005820603425915202\n",
      "NN at 0: 0.059680289025055296 with std 0.017489489182995675\n",
      "NN at 1.2: 0.017204360536070353 with std 0.010403876517099992\n"
     ]
    }
   ],
   "source": [
    "### For W2\n",
    "for method in n_methods:\n",
    "    w1_vals = W1_dict[method]\n",
    "    for j,y in enumerate(y_locs):\n",
    "        w1_y = w1_vals[:,j]\n",
    "        print(method + ' at ' + str(y) + ': ' + str(np.mean(w1_y)) + ' with std ' + str(np.std(w1_y)) )\n",
    "    #print('OTT: ' + list(w2_vals.mean(axis=0)) +' with std ' + list(w2_vals.std(axis=0)) )"
   ]
  },
  {
   "cell_type": "code",
   "execution_count": 5,
   "id": "81ea781c",
   "metadata": {},
   "outputs": [
    {
     "ename": "TypeError",
     "evalue": "only size-1 arrays can be converted to Python scalars",
     "output_type": "error",
     "traceback": [
      "\u001b[0;31m---------------------------------------------------------------------------\u001b[0m",
      "\u001b[0;31mTypeError\u001b[0m                                 Traceback (most recent call last)",
      "Cell \u001b[0;32mIn[5], line 4\u001b[0m\n\u001b[1;32m      2\u001b[0m mmd_vals \u001b[38;5;241m=\u001b[39m MMD_dict[method]\n\u001b[1;32m      3\u001b[0m \u001b[38;5;28;01mfor\u001b[39;00m j,y \u001b[38;5;129;01min\u001b[39;00m \u001b[38;5;28menumerate\u001b[39m(y_locs):\n\u001b[0;32m----> 4\u001b[0m     mmd_y \u001b[38;5;241m=\u001b[39m sqrt(mmd_vals[:,j])\n\u001b[1;32m      5\u001b[0m     \u001b[38;5;28mprint\u001b[39m(method \u001b[38;5;241m+\u001b[39m \u001b[38;5;124m'\u001b[39m\u001b[38;5;124m at \u001b[39m\u001b[38;5;124m'\u001b[39m \u001b[38;5;241m+\u001b[39m \u001b[38;5;28mstr\u001b[39m(y) \u001b[38;5;241m+\u001b[39m \u001b[38;5;124m'\u001b[39m\u001b[38;5;124m: \u001b[39m\u001b[38;5;124m'\u001b[39m \u001b[38;5;241m+\u001b[39m \u001b[38;5;28mstr\u001b[39m(np\u001b[38;5;241m.\u001b[39mmean(mmd_y)) \u001b[38;5;241m+\u001b[39m \u001b[38;5;124m'\u001b[39m\u001b[38;5;124m with std \u001b[39m\u001b[38;5;124m'\u001b[39m \u001b[38;5;241m+\u001b[39m \u001b[38;5;28mstr\u001b[39m(np\u001b[38;5;241m.\u001b[39mstd(mmd_y)) )\n",
      "\u001b[0;31mTypeError\u001b[0m: only size-1 arrays can be converted to Python scalars"
     ]
    }
   ],
   "source": [
    "for method in n_methods:\n",
    "    mmd_vals = MMD_dict[method]\n",
    "    for j,y in enumerate(y_locs):\n",
    "        mmd_y = sqrt(mmd_vals[:,j])\n",
    "        print(method + ' at ' + str(y) + ': ' + str(np.mean(mmd_y)) + ' with std ' + str(np.std(mmd_y)) )\n"
   ]
  }
 ],
 "metadata": {
  "kernelspec": {
   "display_name": "Python 3 (ipykernel)",
   "language": "python",
   "name": "python3"
  },
  "language_info": {
   "codemirror_mode": {
    "name": "ipython",
    "version": 3
   },
   "file_extension": ".py",
   "mimetype": "text/x-python",
   "name": "python",
   "nbconvert_exporter": "python",
   "pygments_lexer": "ipython3",
   "version": "3.9.19"
  }
 },
 "nbformat": 4,
 "nbformat_minor": 5
}
