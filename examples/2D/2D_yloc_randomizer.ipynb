{
 "cells": [
  {
   "cell_type": "code",
   "execution_count": 1,
   "id": "9cc0489c",
   "metadata": {},
   "outputs": [],
   "source": [
    "%load_ext autoreload\n",
    "%autoreload 2\n"
   ]
  },
  {
   "cell_type": "code",
   "execution_count": 2,
   "id": "94c68e26",
   "metadata": {},
   "outputs": [],
   "source": [
    "import sys\n",
    "import numpy as np\n",
    "import jax\n",
    "import jax.numpy as jnp\n",
    "import matplotlib.pyplot as plt\n",
    "import scipy.stats as stats\n",
    "from math import sqrt\n",
    "import pickle\n",
    "\n",
    "sys.path.insert(1, '../../data/')\n",
    "from datasets import Banana, tanh_v1, tanh_v2, tanh_v3\n",
    "sys.path.insert(1, '../../methods/')\n",
    "from TriangularEstimators import ScaledCostOT\n",
    "sys.path.insert(1,'../../.') \n",
    "from metrics import *\n",
    "\n",
    "np.random.seed(42069)"
   ]
  },
  {
   "cell_type": "markdown",
   "id": "54801a10",
   "metadata": {},
   "source": [
    "## Evaluate generate samples with random trials"
   ]
  },
  {
   "cell_type": "code",
   "execution_count": 3,
   "id": "89135aa9",
   "metadata": {},
   "outputs": [
    {
     "name": "stdout",
     "output_type": "stream",
     "text": [
      "['ICNN']\n"
     ]
    },
    {
     "name": "stderr",
     "output_type": "stream",
     "text": [
      "/Users/apooladian/anaconda3/lib/python3.11/site-packages/scipy/stats/_kde.py:588: RuntimeWarning: divide by zero encountered in log\n",
      "  self.log_det = 2*np.log(np.diag(self.cho_cov\n"
     ]
    },
    {
     "data": {
      "application/vnd.jupyter.widget-view+json": {
       "model_id": "b5931722bf66475580d56682a244ec24",
       "version_major": 2,
       "version_minor": 0
      },
      "text/plain": [
       "  0%|          | 0/5000 [00:00<?, ?it/s]"
      ]
     },
     "metadata": {},
     "output_type": "display_data"
    },
    {
     "name": "stderr",
     "output_type": "stream",
     "text": [
      "\n",
      "KeyboardInterrupt\n",
      "\n"
     ]
    }
   ],
   "source": [
    "Ntrain = int(2000) ### fixed \n",
    "Ntest = int(2000) ### fixed\n",
    "\n",
    "n_methods = ['OTT'] ##'ICNN', 'OTT', 'SB'\n",
    "want_nn = True\n",
    "if Ntrain <= 10000 and want_nn:\n",
    "    n_methods.append('NN')\n",
    "print(n_methods)\n",
    "n_trials = 10 ### change to 5-10 later\n",
    "\n",
    "### distribution and other parameters\n",
    "dataset_options = ['Banana','tanh_v1','tanh_v2']\n",
    "\n",
    "dim_x = dim_y = 1\n",
    "betaz = [0.1, 0.08, 0.06, 0.04, 0.02, 0.01]\n",
    "y_loc_mc = 50\n",
    "\n",
    "W1_dict = {method: np.zeros((n_trials, y_loc_mc, len(betaz))) for method in n_methods}\n",
    "MMD_dict = {method: np.zeros((n_trials, y_loc_mc, len(betaz))) for method in n_methods}\n",
    "\n",
    "## for NN\n",
    "n_iters_icnn = 5000\n",
    "hidden_dim_icnn = 128\n",
    "batch_size_icnn = 256\n",
    "## for OTT method\n",
    "n_inters_ott = 5000\n",
    "beta_scaling = 5\n",
    "## for SB\n",
    "# tau_sb = 0.99\n",
    "# Nsteps_sb = 50\n",
    "\n",
    "for dset in dataset_options:\n",
    "    if dset == 'tanh_v1':\n",
    "        pi = tanh_v1()\n",
    "    elif dset == 'tanh_v2':\n",
    "        pi = tanh_v2()\n",
    "    elif dset == 'tanh_v3':\n",
    "        pi = tanh_v3()\n",
    "    elif dset == 'Banana':\n",
    "        pi = Banana(reverse=False)\n",
    "\n",
    "    y_locz = pi.sample_joint(y_loc_mc)[:,1]\n",
    "    for k,beta in enumerate(betaz):\n",
    "        eps_ott = beta/beta_scaling\n",
    "        for i in range(n_trials):\n",
    "            X = pi.sample_joint(Ntrain)\n",
    "            X_source = np.hstack((X[:,0][:,None], np.random.randn(Ntrain,1)))\n",
    "            X_target = pi.sample_joint(Ntrain)\n",
    "\n",
    "            ## ICNN model\n",
    "            if 'ICNN' in n_methods:\n",
    "                ot_icnn = ScaledCostOT(dx1=dim_x,dx2=dim_y,beta=beta,estimator='ICNN', \n",
    "                                       n_iters=n_iters_icnn,hidden_dim=hidden_dim_icnn,\n",
    "                                      batch_size=batch_size_icnn) ## move this as a **args\n",
    "                ot_icnn.fit(source=X_source, target=X_target)\n",
    "                print('Done ICNN')\n",
    "            ## Nearest-Neighbor estimator\n",
    "            if 'NN' in n_methods: \n",
    "                ot_nn = ScaledCostOT(dx1=dim_x,dx2=dim_y,beta=beta,estimator='NN')\n",
    "                ot_nn.fit(source=X_source, target=X_target)\n",
    "                print('Done NN')\n",
    "            ## Entropic map estimator\n",
    "            if 'OTT' in n_methods:\n",
    "                ot_ott = ScaledCostOT(dx1=dim_x,dx2=dim_y,beta=beta,estimator='OTT',eps=eps_ott)\n",
    "                ot_ott.fit(source=X_source, target=X_target, max_iter=n_inters_ott)\n",
    "                print('Done OTT')\n",
    "    \n",
    "            for j,y in enumerate(y_locz):\n",
    "                data_cond_y = jnp.hstack((jnp.ones((Ntest,1))*y, jnp.array(np.random.randn(Ntest,1))))\n",
    "                gen_samples_pi = pi.sample_conditional(y,Ntest)\n",
    "\n",
    "                if 'ICNN' in n_methods:\n",
    "                    YX_transp_icnn = np.array(ot_icnn.evaluate(data_cond_y.copy()))\n",
    "                    W1_dict['ICNN'][i,j,k] = stats.wasserstein_distance(YX_transp_icnn[:,1],gen_samples_pi)\n",
    "                    MMD_dict['ICNN'][i,j,k],_ = mmd2(YX_transp_icnn[:,1].reshape(Ntest,dim_x),gen_samples_pi.reshape(Ntest,dim_x))\n",
    "    \n",
    "                if 'NN' in n_methods:\n",
    "                    YX_transp_nn = np.array(ot_nn.evaluate(data_cond_y.copy()))\n",
    "                    W1_dict['NN'][i,j,k] = stats.wasserstein_distance(YX_transp_nn[:,1],gen_samples_pi)\n",
    "                    MMD_dict['NN'][i,j,k],_ = mmd2(YX_transp_nn[:,1].reshape(Ntest,dim_x),gen_samples_pi.reshape(Ntest,dim_x))\n",
    "    \n",
    "                if 'OTT' in n_methods: \n",
    "                    YX_transp_ott = np.array(ot_ott.evaluate(data_cond_y.copy()))\n",
    "                    W1_dict['OTT'][i,j,k] = stats.wasserstein_distance(YX_transp_ott[:,1],gen_samples_pi)\n",
    "                    MMD_dict['OTT'][i,j,k],_ = mmd2(YX_transp_ott[:,1].reshape(Ntest,dim_x),gen_samples_pi.reshape(Ntest,dim_x))\n",
    "    \n",
    "                if 'SB' in n_methods: \n",
    "                    YX_transp_sb = np.array(ot_ott.evaluate_bridge(data_cond_y.copy(),tau=tau_sb,Nsteps=Nsteps_sb))\n",
    "                    W1_dict['SB'][i,j,k] = stats.wasserstein_distance(YX_transp_sb[:,1],gen_samples_pi)\n",
    "                    MMD_dict['SB'][i,j,k],_ = mmd2(YX_transp_sb[:,1].reshape(Ntest,dim_x),gen_samples_pi.reshape(Ntest,dim_x))\n",
    "    \n",
    "    all_info={'dataset':dset,'n_iters_ott':n_inters_ott,'tau_sb':tau_sb,\n",
    "              'Nsteps_sb':Nsteps_sb,'w1_dict': W1_dict, 'betaz':betaz,\n",
    "              'mmd_dict':MMD_dict,'ntrain':Ntrain,'ntest':Ntest,\n",
    "             'y_locs':y_locz, 'beta_scaling': beta_scaling}\n",
    "\n",
    "\n",
    "    with open('all_info_{}.pkl'.format(dset), 'wb') as handle:\n",
    "        pickle.dump(all_info, handle, protocol=pickle.HIGHEST_PROTOCOL)"
   ]
  },
  {
   "cell_type": "code",
   "execution_count": null,
   "id": "fad9db75",
   "metadata": {},
   "outputs": [],
   "source": [
    "# for dset in dataset_options:\n",
    "#     with open('all_info_{}.pkl'.format(dset), 'rb') as f:\n",
    "#         kms = pickle.load(f)\n",
    "#     print(kms)"
   ]
  },
  {
   "cell_type": "code",
   "execution_count": null,
   "id": "ca6390e1-ff9c-4929-b760-dba82b336113",
   "metadata": {},
   "outputs": [],
   "source": []
  },
  {
   "cell_type": "code",
   "execution_count": null,
   "id": "6f7e0a24-47fd-493a-ab28-01cd02259579",
   "metadata": {},
   "outputs": [],
   "source": []
  }
 ],
 "metadata": {
  "kernelspec": {
   "display_name": "Python 3 (ipykernel)",
   "language": "python",
   "name": "python3"
  },
  "language_info": {
   "codemirror_mode": {
    "name": "ipython",
    "version": 3
   },
   "file_extension": ".py",
   "mimetype": "text/x-python",
   "name": "python",
   "nbconvert_exporter": "python",
   "pygments_lexer": "ipython3",
   "version": "3.11.6"
  }
 },
 "nbformat": 4,
 "nbformat_minor": 5
}
